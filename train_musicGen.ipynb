{
  "nbformat": 4,
  "nbformat_minor": 0,
  "metadata": {
    "colab": {
      "provenance": [],
      "machine_shape": "hm",
      "gpuType": "T4",
      "authorship_tag": "ABX9TyNiY2cwTgd+japyZRbkCOqi",
      "include_colab_link": true
    },
    "kernelspec": {
      "name": "python3",
      "display_name": "Python 3"
    },
    "language_info": {
      "name": "python"
    },
    "accelerator": "GPU"
  },
  "cells": [
    {
      "cell_type": "markdown",
      "metadata": {
        "id": "view-in-github",
        "colab_type": "text"
      },
      "source": [
        "<a href=\"https://colab.research.google.com/github/dominiqueGrys/train-musicGen/blob/main/train_musicGen.ipynb\" target=\"_parent\"><img src=\"https://colab.research.google.com/assets/colab-badge.svg\" alt=\"Open In Colab\"/></a>"
      ]
    },
    {
      "cell_type": "code",
      "source": [
        "# os.environ['LC_ALL'] = 'C.UTF-8'\n",
        "# os.environ['LANG'] = 'C.UTF-8'"
      ],
      "metadata": {
        "id": "yM7QKVolW5fU"
      },
      "execution_count": null,
      "outputs": []
    },
    {
      "cell_type": "code",
      "source": [
        "!pip install pydub"
      ],
      "metadata": {
        "id": "4QUr5y-pRd5A"
      },
      "execution_count": null,
      "outputs": []
    },
    {
      "cell_type": "code",
      "source": [
        "!python3 -m pip install -U git+https://github.com/facebookresearch/audiocraft#egg=audiocraft\n"
      ],
      "metadata": {
        "id": "jAn7QCwB46CN"
      },
      "execution_count": null,
      "outputs": []
    },
    {
      "cell_type": "code",
      "source": [
        "from google.colab import drive\n",
        "drive.mount('/content/drive')"
      ],
      "metadata": {
        "colab": {
          "base_uri": "https://localhost:8080/"
        },
        "id": "BqhfyBvHRisU",
        "outputId": "b2be8c55-854f-43fc-bde1-182a22653b5f"
      },
      "execution_count": null,
      "outputs": [
        {
          "output_type": "stream",
          "name": "stdout",
          "text": [
            "Mounted at /content/drive\n"
          ]
        }
      ]
    },
    {
      "cell_type": "code",
      "source": [
        "import os\n",
        "import random\n",
        "from pydub import AudioSegment\n",
        "\n",
        "import soundfile as sf\n",
        "import numpy as np"
      ],
      "metadata": {
        "id": "kuF1jXoZT_pE"
      },
      "execution_count": null,
      "outputs": []
    },
    {
      "cell_type": "code",
      "source": [
        "# Folder names\n",
        "input_folder_name = \"raw\"\n",
        "output_folder_name = \"output\"\n",
        "musicgen_trainer_dir = \"musicgen_trainer_dir\"\n",
        "\n",
        "if not os.path.exists(input_folder_name):\n",
        "    os.makedirs(input_folder_name)\n",
        "    print(f\"'{input_folder_name}' folder created.\")\n",
        "\n",
        "if not os.path.exists(output_folder_name):\n",
        "    os.makedirs(output_folder_name)\n",
        "    print(f\"'{output_folder_name}' folder created.\")\n",
        "\n",
        "if not os.path.exists(musicgen_trainer_dir):\n",
        "    os.makedirs(musicgen_trainer_dir)\n",
        "    print(f\"'{musicgen_trainer_dir}' folder created.\")"
      ],
      "metadata": {
        "id": "RiTACLKIR-Sx"
      },
      "execution_count": null,
      "outputs": []
    },
    {
      "cell_type": "code",
      "source": [
        "def delete_files_in_directory(directory_path):\n",
        "    # Iterate through the files in the directory\n",
        "    for file_name in os.listdir(directory_path):\n",
        "        # Construct the full file path\n",
        "        file_path = os.path.join(directory_path, file_name)\n",
        "\n",
        "        # Check if it is a file (not a directory)\n",
        "        if os.path.isfile(file_path):\n",
        "            # Delete the file\n",
        "            os.remove(file_path)\n",
        "            print(f\"Deleted: {file_path}\")\n",
        "\n",
        "# Specify the output directory where you want to delete files\n",
        "output_directory = 'output'\n",
        "\n",
        "# Delete all files in the output directory\n",
        "delete_files_in_directory(output_directory)"
      ],
      "metadata": {
        "id": "-4cn2y2PU-fh"
      },
      "execution_count": null,
      "outputs": []
    },
    {
      "cell_type": "code",
      "source": [
        "import shutil\n",
        "\n",
        "# Specify the directory you want to delete\n",
        "directory_path = \"/content/musicgen_trainer_dir\"\n",
        "\n",
        "# Delete the directory and all its contents\n",
        "shutil.rmtree(directory_path)"
      ],
      "metadata": {
        "id": "O_SxqyJ1WlCI"
      },
      "execution_count": null,
      "outputs": []
    },
    {
      "cell_type": "code",
      "source": [
        "\n",
        "def process_audio(file_path, output_dir, segment_length=30):\n",
        "    # Load audio file\n",
        "    audio = AudioSegment.from_file(file_path)\n",
        "\n",
        "    # Get file name without extension for caption\n",
        "    file_name = os.path.splitext(os.path.basename(file_path))[0]\n",
        "\n",
        "    # Convert segment length to milliseconds\n",
        "    segment_length_ms = segment_length * 1000\n",
        "\n",
        "    # Set the sample rate to 32000 Hz\n",
        "    audio = audio.set_frame_rate(32000)\n",
        "\n",
        "    # Calculate the number of segments\n",
        "    num_segments = (len(audio) + segment_length_ms - 1) // segment_length_ms\n",
        "\n",
        "    # Loop through segments\n",
        "    for i in range(num_segments):\n",
        "        # Get start time for the segment\n",
        "        start_time = i * segment_length_ms\n",
        "\n",
        "        # If this is the last segment, adjust start_time\n",
        "        if i == num_segments - 1:\n",
        "            start_time = len(audio) - segment_length_ms\n",
        "\n",
        "        # Get end time for the segment\n",
        "        end_time = start_time + segment_length_ms\n",
        "\n",
        "        # Extract the segment\n",
        "        segment = audio[start_time:end_time]\n",
        "\n",
        "        # Save the segment\n",
        "        segment.export(os.path.join(output_dir, f'segment_{i:03d}.wav'), format='wav')\n",
        "\n",
        "        # Save the caption\n",
        "        with open(os.path.join(output_dir, f'segment_{i:03d}.txt'), 'w') as f:\n",
        "            f.write(file_name)\n",
        "\n",
        "# Directory setup\n",
        "output_directory = 'output'\n",
        "samples_directory = 'raw'\n",
        "\n",
        "# Check if the output directory exists, if not, create it\n",
        "if not os.path.exists(output_directory):\n",
        "    os.makedirs(output_directory)\n",
        "\n",
        "# Iterate through the files in the \"samples\" directory\n",
        "for file_name in os.listdir(samples_directory):\n",
        "    if file_name.endswith('.wav') or file_name.endswith('.mp3'):\n",
        "        file_path = os.path.join(samples_directory, file_name)\n",
        "        process_audio(file_path, output_directory, segment_length=30)\n"
      ],
      "metadata": {
        "id": "qM9hpf0QS3wG"
      },
      "execution_count": null,
      "outputs": []
    },
    {
      "cell_type": "code",
      "source": [
        "\n",
        "import librosa\n",
        "\n",
        "# Directory where the WAV files are saved\n",
        "output_directory = 'output'\n",
        "\n",
        "# Iterate through the files in the directory\n",
        "for file_name in os.listdir(output_directory):\n",
        "    # Check if the file is a WAV file\n",
        "    if file_name.endswith('.wav'):\n",
        "        # Load the audio file\n",
        "        file_path = os.path.join(output_directory, file_name)\n",
        "        audio, sample_rate = librosa.load(file_path, sr=None)\n",
        "\n",
        "        # Check the shape of the audio\n",
        "        if audio.shape[0] == 32000 * 30:\n",
        "            print(f\"{file_name} has the correct shape: {audio.shape[0]}\")\n",
        "        else:\n",
        "            print(f\"{file_name} does not have the correct shape. Actual shape: {audio.shape[0]}\")\n"
      ],
      "metadata": {
        "id": "QZOjW3bgFJ0J"
      },
      "execution_count": null,
      "outputs": []
    },
    {
      "cell_type": "markdown",
      "source": [
        "#train"
      ],
      "metadata": {
        "id": "RCiRuK7tVy-C"
      }
    },
    {
      "cell_type": "code",
      "source": [
        "!cd \"/content/musicgen_trainer_dir\" && git clone https://github.com/chavinlo/musicgen_trainer.git"
      ],
      "metadata": {
        "id": "w4wqaIBt3Rgi"
      },
      "execution_count": null,
      "outputs": []
    },
    {
      "cell_type": "code",
      "source": [
        "!python /content/musicgen_trainer_dir/musicgen_trainer/run.py --dataset_path /content/output"
      ],
      "metadata": {
        "id": "v99p_Sr94q-4"
      },
      "execution_count": null,
      "outputs": []
    },
    {
      "cell_type": "code",
      "source": [
        "from audiocraft.models import musicgen\n",
        "from audiocraft.utils.notebook import display_audio\n",
        "import torch"
      ],
      "metadata": {
        "id": "rPppiCyP74aD"
      },
      "execution_count": null,
      "outputs": []
    },
    {
      "cell_type": "code",
      "source": [
        "model = musicgen.MusicGen.get_pretrained('small', device='cuda')\n",
        "\n",
        "model.set_generation_params(duration=8)\n",
        "\n",
        "model.lm.load_state_dict(torch.load('models/lm_final.pt'))"
      ],
      "metadata": {
        "colab": {
          "base_uri": "https://localhost:8080/"
        },
        "id": "lRL5fP1VHj7l",
        "outputId": "0b1b356c-4b5c-4e14-ce8b-e40a18c631f8"
      },
      "execution_count": null,
      "outputs": [
        {
          "output_type": "execute_result",
          "data": {
            "text/plain": [
              "<All keys matched successfully>"
            ]
          },
          "metadata": {},
          "execution_count": 11
        }
      ]
    },
    {
      "cell_type": "code",
      "source": [
        "res = model.generate([\n",
        "    'country indie jazz, radiohead'\n",
        "],\n",
        "    progress=True)\n",
        "display_audio(res, 32000)"
      ],
      "metadata": {
        "id": "5cbC7s1wMaOI"
      },
      "execution_count": null,
      "outputs": []
    }
  ]
}